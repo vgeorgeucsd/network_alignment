{
 "cells": [
  {
   "cell_type": "code",
   "execution_count": 23,
   "metadata": {},
   "outputs": [],
   "source": [
    "import networkx as nx\n",
    "import matplotlib.pyplot as plt \n",
    "import re\n",
    "import os"
   ]
  },
  {
   "cell_type": "code",
   "execution_count": 39,
   "metadata": {},
   "outputs": [],
   "source": [
    "def make_prime(fname):\n",
    "    G = nx.DiGraph()\n",
    "    G=nx.read_edgelist(fname,create_using=nx.DiGraph())\n",
    "    H = nx.Graph()\n",
    "    for e in G.edges():\n",
    "        src=e[0]\n",
    "        tar=e[1]\n",
    "        prime=e[1]+'p'\n",
    "        H.add_edge(src, prime)\n",
    "        H.add_edge(prime,tar)\n",
    "    out_fname = 'p_' + os.path.splitext(fname)[0] + '.el'\n",
    "    print(out_fname)\n",
    "    nx.write_edgelist(H, out_fname)"
   ]
  },
  {
   "cell_type": "code",
   "execution_count": 40,
   "metadata": {},
   "outputs": [],
   "source": [
    "def make_inv_from_prime(fname):\n",
    "    H=nx.read_edgelist(edgeList,create_using=nx.Graph())\n",
    "    DG=nx.DiGraph()\n",
    "    for e in H.edges():\n",
    "        if(re.search('[a-zA-Z]', e[0])):\n",
    "            src = e[0].replace('p','')\n",
    "            tar = e[1]\n",
    "            if(src==tar):\n",
    "                continue\n",
    "            DG.add_edge(tar,src)\n",
    "        if(re.search('[a-zA-Z]', e[1])):\n",
    "            src = e[0]\n",
    "            tar = e[1].replace('p', '')\n",
    "            if(src==tar):\n",
    "                continue\n",
    "            DG.add_edge(src,tar)\n",
    "    fname = os.path.splitext(base)[0]\n",
    "    out_fname = 'invp_' + fname + '.el'\n",
    "    nx.write_edgelist(DG, out_fname)"
   ]
  },
  {
   "cell_type": "code",
   "execution_count": 41,
   "metadata": {},
   "outputs": [
    {
     "name": "stdout",
     "output_type": "stream",
     "text": [
      "p_well22_day1.el\n",
      "p_well22_day103.el\n"
     ]
    }
   ],
   "source": [
    "fname_directed = 'well22_day1.txt'\n",
    "make_prime(fname_directed)\n",
    "fname_directed = 'well22_day103.txt'\n",
    "make_prime(fname_directed)"
   ]
  },
  {
   "cell_type": "code",
   "execution_count": 33,
   "metadata": {},
   "outputs": [],
   "source": []
  },
  {
   "cell_type": "code",
   "execution_count": null,
   "metadata": {},
   "outputs": [],
   "source": []
  },
  {
   "cell_type": "code",
   "execution_count": null,
   "metadata": {},
   "outputs": [],
   "source": []
  }
 ],
 "metadata": {
  "kernelspec": {
   "display_name": "Python 3",
   "language": "python",
   "name": "python3"
  },
  "language_info": {
   "codemirror_mode": {
    "name": "ipython",
    "version": 3
   },
   "file_extension": ".py",
   "mimetype": "text/x-python",
   "name": "python",
   "nbconvert_exporter": "python",
   "pygments_lexer": "ipython3",
   "version": "3.8.2"
  }
 },
 "nbformat": 4,
 "nbformat_minor": 4
}
