{
 "cells": [
  {
   "cell_type": "code",
   "execution_count": 170,
   "metadata": {},
   "outputs": [],
   "source": [
    "import networkx as nx\n",
    "import matplotlib.pyplot as plt \n",
    "\n",
    "directedEdgeList = 'well22_day1.txt'\n"
   ]
  },
  {
   "cell_type": "code",
   "execution_count": 171,
   "metadata": {},
   "outputs": [],
   "source": [
    "G = nx.DiGraph()"
   ]
  },
  {
   "cell_type": "code",
   "execution_count": 172,
   "metadata": {},
   "outputs": [],
   "source": [
    "G=nx.read_edgelist(directedEdgeList,create_using=nx.DiGraph())"
   ]
  },
  {
   "cell_type": "code",
   "execution_count": 177,
   "metadata": {},
   "outputs": [
    {
     "name": "stdout",
     "output_type": "stream",
     "text": [
      "('6', '48')\n",
      "6\n",
      "48p\n",
      "48\n"
     ]
    }
   ],
   "source": [
    "H = nx.Graph()\n",
    "for e in G.edges():\n",
    "    src=e[0]\n",
    "    tar=e[1]\n",
    "    prime=e[1]+'p'\n",
    "    H.add_edge(src, prime)\n",
    "    H.add_edge(prime,tar)"
   ]
  },
  {
   "cell_type": "code",
   "execution_count": 180,
   "metadata": {},
   "outputs": [],
   "source": [
    "nx.write_edgelist(H, \"well22_day1.prime.edgelist\")"
   ]
  },
  {
   "cell_type": "markdown",
   "metadata": {},
   "source": [
    "Reversing the process, that is from prime graph to directed graph. You can save this if you want, but it is an erro"
   ]
  },
  {
   "cell_type": "code",
   "execution_count": 181,
   "metadata": {},
   "outputs": [],
   "source": [
    "DG=nx.DiGraph()\n",
    "import re\n",
    "\n",
    "for e in H.edges():\n",
    "    if(re.search('[a-zA-Z]', e[0])):\n",
    "        src = e[0].replace('p','')\n",
    "        tar = e[1]\n",
    "        if(src==tar):\n",
    "            continue\n",
    "        DG.add_edge(tar,src)\n",
    "    if(re.search('[a-zA-Z]', e[1])):\n",
    "        src = e[0]\n",
    "        tar = e[1].replace('p', '')\n",
    "        if(src==tar):\n",
    "            continue\n",
    "        DG.add_edge(src,tar)"
   ]
  },
  {
   "cell_type": "code",
   "execution_count": 183,
   "metadata": {},
   "outputs": [
    {
     "name": "stdout",
     "output_type": "stream",
     "text": [
      "True\n"
     ]
    }
   ],
   "source": [
    "print(nx.is_isomorphic(G,DG))"
   ]
  }
 ],
 "metadata": {
  "kernelspec": {
   "display_name": "Python 3",
   "language": "python",
   "name": "python3"
  },
  "language_info": {
   "codemirror_mode": {
    "name": "ipython",
    "version": 3
   },
   "file_extension": ".py",
   "mimetype": "text/x-python",
   "name": "python",
   "nbconvert_exporter": "python",
   "pygments_lexer": "ipython3",
   "version": "3.8.2"
  }
 },
 "nbformat": 4,
 "nbformat_minor": 4
}
